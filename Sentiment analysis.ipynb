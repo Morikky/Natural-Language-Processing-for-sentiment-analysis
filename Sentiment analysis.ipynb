{
 "cells": [
  {
   "cell_type": "markdown",
   "id": "2266cd07",
   "metadata": {},
   "source": [
    "# Load the data"
   ]
  },
  {
   "cell_type": "code",
   "execution_count": 1,
   "id": "5a2aceea",
   "metadata": {},
   "outputs": [
    {
     "name": "stdout",
     "output_type": "stream",
     "text": [
      "   polarity of tweet   id of the tweet             date of the tweet  \\\n",
      "0                   0       1467810672  Mon Apr 06 22:19:49 PDT 2009   \n",
      "1                   0       1467810917  Mon Apr 06 22:19:53 PDT 2009   \n",
      "2                   0       1467811184  Mon Apr 06 22:19:57 PDT 2009   \n",
      "3                   0       1467811193  Mon Apr 06 22:19:57 PDT 2009   \n",
      "4                   0       1467811372  Mon Apr 06 22:20:00 PDT 2009   \n",
      "\n",
      "      query           user                                 text of the tweet   \n",
      "0  NO_QUERY  scotthamilton  is upset that he can't update his Facebook by ...  \n",
      "1  NO_QUERY       mattycus  @Kenichan I dived many times for the ball. Man...  \n",
      "2  NO_QUERY        ElleCTF    my whole body feels itchy and like its on fire   \n",
      "3  NO_QUERY         Karoli  @nationwideclass no, it's not behaving at all....  \n",
      "4  NO_QUERY       joy_wolf                      @Kwesidei not the whole crew   \n"
     ]
    }
   ],
   "source": [
    "import numpy as np\n",
    "import pandas as pd\n",
    "\n",
    "#load the data\n",
    "data_pd=pd.read_csv('sentiment (Shrivastava on kaggle, Public Domain).csv',encoding =\"ISO 8859 1\")\n",
    "\n",
    "#print a few examples of the data\n",
    "print(data_pd.head())\n",
    "\n",
    "#move from data frame to numpy array\n",
    "data_np=data_pd.to_numpy()\n"
   ]
  },
  {
   "cell_type": "markdown",
   "id": "d8c83014",
   "metadata": {},
   "source": [
    "# Labels preprocessing"
   ]
  },
  {
   "cell_type": "code",
   "execution_count": 2,
   "id": "362af849",
   "metadata": {},
   "outputs": [
    {
     "name": "stdout",
     "output_type": "stream",
     "text": [
      "unique label values:[0 4]\n",
      "number of negative labels: 799996\n",
      " number of positive labels: 248576\n"
     ]
    }
   ],
   "source": [
    "#get the labels\n",
    "labels=data_np[:,0]\n",
    "\n",
    "#check the labels\n",
    "print(f'unique label values:{np.unique(labels)}') \n",
    "\n",
    "#make label values 0 and 1 \n",
    "labels=data_np[:,0]/4  \n",
    "\n",
    "#make as array of floats\n",
    "labels=np.asarray(labels).astype('float32') \n",
    "\n",
    "#check if the labels are balanced\n",
    "no_neg_labels=len(labels[labels==0]) \n",
    "no_pos_labels=len(labels[labels==1]) \n",
    "print(f'number of negative labels: {no_neg_labels}\\n number of positive labels: {no_pos_labels}')\n",
    "\n",
    "#create weights to balance the labels (will be used when training the model)\n",
    "class_weight = {0: 1, 1: no_neg_labels/no_pos_labels}"
   ]
  },
  {
   "cell_type": "markdown",
   "id": "562645c9",
   "metadata": {},
   "source": [
    "# Features preprocessing"
   ]
  },
  {
   "cell_type": "code",
   "execution_count": 3,
   "id": "c77ebaa3",
   "metadata": {},
   "outputs": [],
   "source": [
    "from tensorflow import keras\n",
    "import tensorflow as tf\n",
    "from sklearn.model_selection import train_test_split\n",
    "\n",
    "#get the tweets (features)\n",
    "tweets=data_np[:,5]\n",
    "\n",
    "#1)tokenize the tweets (separate into single words and give each word numerical value)\n",
    "\n",
    "#1.1)#train/test split for tokenizing (tokenizer is fitted only on train data)\n",
    "tweets_train,_,_,_=train_test_split(tweets,labels,test_size=0.2,random_state=0)\n",
    "\n",
    "#1.2)fit tokenizer on the train data \n",
    "num_words = 10000      #limit the tweets' number of words to the 10k most frequent (to avoid overfitting)\n",
    "tokenizer=keras.preprocessing.text.Tokenizer(num_words=num_words)\n",
    "tokenizer.fit_on_texts(tweets_train)\n",
    "\n",
    "#1.3)apply tokenizer on all tweets (train and test)\n",
    "tk_tweets=tokenizer.texts_to_sequences(tweets)  \n",
    "\n",
    "\n",
    "\n",
    "#2)padding all tweets-make tokenized tweets with equal lengthes (by zero padding).\n",
    "#padding with all tweets makes the test and train have equal lengthes after padding (but a 2nd train/test split is required)\n",
    "pad_tk_tweets=tf.keras.utils.pad_sequences(tk_tweets) \n",
    "\n",
    "#make as array of floats\n",
    "pad_tk_tweets=np.asarray(pad_tk_tweets).astype('float32') \n",
    "\n",
    "\n",
    "\n",
    "#3)train/test split for model trainning\n",
    "x_train,x_test,y_train,y_test=train_test_split(pad_tk_tweets,labels,test_size=0.2)"
   ]
  },
  {
   "cell_type": "markdown",
   "id": "ac76d0f1",
   "metadata": {},
   "source": [
    "# Preparation for the embedding layer of the model"
   ]
  },
  {
   "cell_type": "code",
   "execution_count": 4,
   "id": "0a9dab6a",
   "metadata": {},
   "outputs": [],
   "source": [
    "#get the number of words in the tweets\n",
    "vocab_size = num_words+1  #+1 for the zero value that is added by zero padding\n",
    "\n",
    "#get the size of the padded tokenized tweets\n",
    "pad_len=len(pad_tk_tweets[0])\n",
    "\n",
    "#choose the embedding dimension\n",
    "emb_dim=10"
   ]
  },
  {
   "cell_type": "markdown",
   "id": "f0edf66a",
   "metadata": {},
   "source": [
    "# Create the model"
   ]
  },
  {
   "cell_type": "code",
   "execution_count": 5,
   "id": "09d98f14",
   "metadata": {},
   "outputs": [
    {
     "name": "stdout",
     "output_type": "stream",
     "text": [
      "Model: \"sequential\"\n",
      "_________________________________________________________________\n",
      " Layer (type)                Output Shape              Param #   \n",
      "=================================================================\n",
      " embedding (Embedding)       (None, 40, 10)            100010    \n",
      "                                                                 \n",
      " lstm (LSTM)                 (None, 40, 50)            12200     \n",
      "                                                                 \n",
      " lstm_1 (LSTM)               (None, 50)                20200     \n",
      "                                                                 \n",
      " dense (Dense)               (None, 50)                2550      \n",
      "                                                                 \n",
      " dense_1 (Dense)             (None, 1)                 51        \n",
      "                                                                 \n",
      "=================================================================\n",
      "Total params: 135,011\n",
      "Trainable params: 135,011\n",
      "Non-trainable params: 0\n",
      "_________________________________________________________________\n"
     ]
    }
   ],
   "source": [
    "model= keras.models.Sequential()\n",
    "model.add(keras.layers.Embedding(vocab_size, emb_dim, input_length=pad_len, mask_zero=True)) #input_length is reauired if dense layers follow\n",
    "model.add(keras.layers.LSTM(50, dropout=0.2 ,recurrent_dropout=0.2, return_sequences=True)) #dropout to tackle overfitting\n",
    "model.add(keras.layers.LSTM(50, dropout=0.2, recurrent_dropout=0.2, return_sequences=False))\n",
    "model.add(keras.layers.Dense(50, activation ='relu'))\n",
    "model.add(keras.layers.Dense(1, activation ='sigmoid')) #output layer\n",
    "\n",
    "model.compile(optimizer='adam', loss='binary_crossentropy', metrics=['accuracy'])\n",
    "\n",
    "model.summary()\n"
   ]
  },
  {
   "cell_type": "markdown",
   "id": "1d917434",
   "metadata": {},
   "source": [
    "# Training the model"
   ]
  },
  {
   "cell_type": "code",
   "execution_count": 6,
   "id": "43f139bf",
   "metadata": {},
   "outputs": [],
   "source": [
    "#Next line to train the model (muted since training was already done and the results were saved)\n",
    "#history=model.fit(x_train , y_train , epochs =5, batch_size=300, class_weight=class_weight, validation_data=(x_test,y_test))\n",
    "\n",
    "\n",
    "#load saved model\n",
    "import pickle\n",
    "saved_model=tf.keras.models.load_model('model4')\n",
    "with open('model4/trainHistoryDict', \"rb\") as file_pi:\n",
    "    saved_history = pickle.load(file_pi)"
   ]
  },
  {
   "cell_type": "markdown",
   "id": "978e4a5e",
   "metadata": {},
   "source": [
    "# Plot \"accuracy\" from train and test data"
   ]
  },
  {
   "cell_type": "code",
   "execution_count": 8,
   "id": "d0a09560",
   "metadata": {},
   "outputs": [
    {
     "data": {
      "image/png": "[encoded data removed]",
      "text/plain": [
       "<Figure size 432x288 with 1 Axes>"
      ]
     },
     "metadata": {
      "needs_background": "light"
     },
     "output_type": "display_data"
    },
    {
     "name": "stdout",
     "output_type": "stream",
     "text": [
      "Accuracy train: 0.8237375617027283\n",
      "Accuracy validiation: 0.8189685940742493\n"
     ]
    }
   ],
   "source": [
    "import matplotlib.pyplot as plt\n",
    "\n",
    "#Plot using the \"saved_history\" from the saved results of training \n",
    "\n",
    "plt.plot(saved_history['accuracy'], label='Train data')\n",
    "plt.plot(saved_history['val_accuracy'], label='Test data')\n",
    "plt.legend()\n",
    "plt.xlabel('Epoch')\n",
    "plt.ylabel('Accuracy')\n",
    "plt.show()\n",
    "\n",
    "#Print R2 values at the end of training\n",
    "print(f\"Accuracy train: {saved_history['accuracy'][-1]}\")\n",
    "print(f\"Accuracy validiation: {saved_history['val_accuracy'][-1]}\")\n"
   ]
  },
  {
   "cell_type": "markdown",
   "id": "6212325f",
   "metadata": {},
   "source": [
    "# Evaluation of the model (confusion matrix)"
   ]
  },
  {
   "cell_type": "code",
   "execution_count": 10,
   "id": "72b9a1d7",
   "metadata": {},
   "outputs": [
    {
     "name": "stdout",
     "output_type": "stream",
     "text": [
      "6554/6554 [==============================] - 85s 13ms/step\n"
     ]
    },
    {
     "data": {
      "image/png": "[encoded data removed]",
      "text/plain": [
       "<Figure size 432x288 with 2 Axes>"
      ]
     },
     "metadata": {
      "needs_background": "light"
     },
     "output_type": "display_data"
    }
   ],
   "source": [
    "from sklearn.metrics import confusion_matrix, ConfusionMatrixDisplay\n",
    "\n",
    "\n",
    "#plot confusion matrix\n",
    "y_pred=np.round(saved_model.predict(x_test),0).flatten()\n",
    "y_true=y_test\n",
    "con_mat=confusion_matrix(y_true, y_pred, normalize='true') \n",
    "disp = ConfusionMatrixDisplay(confusion_matrix=con_mat,display_labels=['negative \\n sentiment','positive \\n sentiment']) #\n",
    "disp.plot()\n",
    "plt.show()\n",
    "\n",
    "\n",
    "#Remark: equal proportions are seen for true negatives and true positives, althought the labels are not balanced, due to \n",
    "# the use of \"class_weight\""
   ]
  },
  {
   "cell_type": "markdown",
   "id": "34ae0125",
   "metadata": {},
   "source": [
    "# Evaluation of the model (with \"unseen\" tweets)"
   ]
  },
  {
   "cell_type": "code",
   "execution_count": 27,
   "id": "fa3df862",
   "metadata": {},
   "outputs": [
    {
     "name": "stdout",
     "output_type": "stream",
     "text": [
      "1/1 [==============================] - 0s 30ms/step\n",
      "['i feel good today'] has a positive sentiment\n",
      "1/1 [==============================] - 0s 22ms/step\n",
      "['some days i feel like, i do not want to get out of bed'] has a negative sentiment\n",
      "1/1 [==============================] - 0s 42ms/step\n",
      "['it is not black and white'] has a negative sentiment\n"
     ]
    }
   ],
   "source": [
    "my_tweet1=['i feel good today'] \n",
    "my_tweet2=['some days i feel like, i do not want to get out of bed'] \n",
    "my_tweet3=['it is not black and white'] \n",
    "\n",
    "\n",
    "#function that uses the model to output a tweet's sentiment\n",
    "def get_sentiment(tweet):\n",
    "    #Tokanize and pad the tweet\n",
    "    pad_tk_tweet=np.asarray(tf.keras.utils.pad_sequences(tokenizer.texts_to_sequences(tweet),maxlen=pad_len)).astype('float32')\n",
    "    \n",
    "    if np.round(saved_model.predict(pad_tk_tweet),0).flatten()==0:\n",
    "        sentiment='negative sentiment'\n",
    "    else:\n",
    "        sentiment='positive sentiment'\n",
    "    \n",
    "    return sentiment\n",
    "        \n",
    "print(f'{my_tweet1} has a {get_sentiment(my_tweet1)}')\n",
    "print(f'{my_tweet2} has a {get_sentiment(my_tweet2)}')\n",
    "print(f'{my_tweet3} has a {get_sentiment(my_tweet3)}')\n",
    "        "
   ]
  },
  {
   "cell_type": "code",
   "execution_count": null,
   "id": "f58c33f5",
   "metadata": {},
   "outputs": [],
   "source": []
  }
 ],
 "metadata": {
  "kernelspec": {
   "display_name": "Python 3 (ipykernel)",
   "language": "python",
   "name": "python3"
  },
  "language_info": {
   "codemirror_mode": {
    "name": "ipython",
    "version": 3
   },
   "file_extension": ".py",
   "mimetype": "text/x-python",
   "name": "python",
   "nbconvert_exporter": "python",
   "pygments_lexer": "ipython3",
   "version": "3.10.1"
  }
 },
 "nbformat": 4,
 "nbformat_minor": 5
}
